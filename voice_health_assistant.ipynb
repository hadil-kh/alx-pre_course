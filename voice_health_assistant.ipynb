{
  "cells": [
    {
      "cell_type": "markdown",
      "metadata": {
        "id": "view-in-github",
        "colab_type": "text"
      },
      "source": [
        "<a href=\"https://colab.research.google.com/github/hadil-kh/alx-pre_course/blob/master/voice_health_assistant.ipynb\" target=\"_parent\"><img src=\"https://colab.research.google.com/assets/colab-badge.svg\" alt=\"Open In Colab\"/></a>"
      ]
    },
    {
      "cell_type": "code",
      "source": [
        "from google.colab import drive\n",
        "drive.mount(\"/content/mydrive\")"
      ],
      "metadata": {
        "colab": {
          "base_uri": "https://localhost:8080/"
        },
        "id": "QgHG4x2FyklT",
        "outputId": "1e143fd3-66ae-4799-a9cb-71bd3811b874"
      },
      "id": "QgHG4x2FyklT",
      "execution_count": 1,
      "outputs": [
        {
          "output_type": "stream",
          "name": "stdout",
          "text": [
            "Mounted at /content/mydrive\n"
          ]
        }
      ]
    },
    {
      "cell_type": "code",
      "source": [
        "%cd /content/mydrive/MyDrive/Projet e-health"
      ],
      "metadata": {
        "colab": {
          "base_uri": "https://localhost:8080/"
        },
        "id": "uHZZQ0K3yi7L",
        "outputId": "e888f4cb-92fa-4e81-e696-9276c7798356"
      },
      "id": "uHZZQ0K3yi7L",
      "execution_count": 2,
      "outputs": [
        {
          "output_type": "stream",
          "name": "stdout",
          "text": [
            "/content/mydrive/MyDrive/Projet e-health\n"
          ]
        }
      ]
    },
    {
      "cell_type": "code",
      "source": [
        "!nvidia-smi"
      ],
      "metadata": {
        "colab": {
          "base_uri": "https://localhost:8080/"
        },
        "id": "P17JaUn7yzfr",
        "outputId": "0b86a9b5-7fa2-4952-8dba-b8149a526c91"
      },
      "id": "P17JaUn7yzfr",
      "execution_count": 3,
      "outputs": [
        {
          "output_type": "stream",
          "name": "stdout",
          "text": [
            "Thu Aug 14 11:14:32 2025       \n",
            "+-----------------------------------------------------------------------------------------+\n",
            "| NVIDIA-SMI 550.54.15              Driver Version: 550.54.15      CUDA Version: 12.4     |\n",
            "|-----------------------------------------+------------------------+----------------------+\n",
            "| GPU  Name                 Persistence-M | Bus-Id          Disp.A | Volatile Uncorr. ECC |\n",
            "| Fan  Temp   Perf          Pwr:Usage/Cap |           Memory-Usage | GPU-Util  Compute M. |\n",
            "|                                         |                        |               MIG M. |\n",
            "|=========================================+========================+======================|\n",
            "|   0  Tesla T4                       Off |   00000000:00:04.0 Off |                    0 |\n",
            "| N/A   45C    P8             10W /   70W |       0MiB /  15360MiB |      0%      Default |\n",
            "|                                         |                        |                  N/A |\n",
            "+-----------------------------------------+------------------------+----------------------+\n",
            "                                                                                         \n",
            "+-----------------------------------------------------------------------------------------+\n",
            "| Processes:                                                                              |\n",
            "|  GPU   GI   CI        PID   Type   Process name                              GPU Memory |\n",
            "|        ID   ID                                                               Usage      |\n",
            "|=========================================================================================|\n",
            "|  No running processes found                                                             |\n",
            "+-----------------------------------------------------------------------------------------+\n"
          ]
        }
      ]
    },
    {
      "cell_type": "code",
      "source": [
        "!pip install gTTS"
      ],
      "metadata": {
        "colab": {
          "base_uri": "https://localhost:8080/"
        },
        "id": "Bq8sCSJtwkjC",
        "outputId": "a38c9209-d958-4b7b-f002-cb47bc86960e"
      },
      "id": "Bq8sCSJtwkjC",
      "execution_count": 4,
      "outputs": [
        {
          "output_type": "stream",
          "name": "stdout",
          "text": [
            "Collecting gTTS\n",
            "  Downloading gTTS-2.5.4-py3-none-any.whl.metadata (4.1 kB)\n",
            "Requirement already satisfied: requests<3,>=2.27 in /usr/local/lib/python3.11/dist-packages (from gTTS) (2.32.3)\n",
            "Collecting click<8.2,>=7.1 (from gTTS)\n",
            "  Downloading click-8.1.8-py3-none-any.whl.metadata (2.3 kB)\n",
            "Requirement already satisfied: charset-normalizer<4,>=2 in /usr/local/lib/python3.11/dist-packages (from requests<3,>=2.27->gTTS) (3.4.3)\n",
            "Requirement already satisfied: idna<4,>=2.5 in /usr/local/lib/python3.11/dist-packages (from requests<3,>=2.27->gTTS) (3.10)\n",
            "Requirement already satisfied: urllib3<3,>=1.21.1 in /usr/local/lib/python3.11/dist-packages (from requests<3,>=2.27->gTTS) (2.5.0)\n",
            "Requirement already satisfied: certifi>=2017.4.17 in /usr/local/lib/python3.11/dist-packages (from requests<3,>=2.27->gTTS) (2025.8.3)\n",
            "Downloading gTTS-2.5.4-py3-none-any.whl (29 kB)\n",
            "Downloading click-8.1.8-py3-none-any.whl (98 kB)\n",
            "\u001b[2K   \u001b[90m━━━━━━━━━━━━━━━━━━━━━━━━━━━━━━━━━━━━━━━━\u001b[0m \u001b[32m98.2/98.2 kB\u001b[0m \u001b[31m5.4 MB/s\u001b[0m eta \u001b[36m0:00:00\u001b[0m\n",
            "\u001b[?25hInstalling collected packages: click, gTTS\n",
            "  Attempting uninstall: click\n",
            "    Found existing installation: click 8.2.1\n",
            "    Uninstalling click-8.2.1:\n",
            "      Successfully uninstalled click-8.2.1\n",
            "Successfully installed click-8.1.8 gTTS-2.5.4\n"
          ]
        }
      ]
    },
    {
      "cell_type": "code",
      "source": [
        "!pip install SpeechRecognition"
      ],
      "metadata": {
        "colab": {
          "base_uri": "https://localhost:8080/"
        },
        "id": "awaZCVWowbD8",
        "outputId": "80c7719d-8bb4-46ac-c851-734343c4f96d"
      },
      "id": "awaZCVWowbD8",
      "execution_count": 5,
      "outputs": [
        {
          "output_type": "stream",
          "name": "stdout",
          "text": [
            "Collecting SpeechRecognition\n",
            "  Downloading speechrecognition-3.14.3-py3-none-any.whl.metadata (30 kB)\n",
            "Requirement already satisfied: typing-extensions in /usr/local/lib/python3.11/dist-packages (from SpeechRecognition) (4.14.1)\n",
            "Downloading speechrecognition-3.14.3-py3-none-any.whl (32.9 MB)\n",
            "\u001b[2K   \u001b[90m━━━━━━━━━━━━━━━━━━━━━━━━━━━━━━━━━━━━━━━━\u001b[0m \u001b[32m32.9/32.9 MB\u001b[0m \u001b[31m30.2 MB/s\u001b[0m eta \u001b[36m0:00:00\u001b[0m\n",
            "\u001b[?25hInstalling collected packages: SpeechRecognition\n",
            "Successfully installed SpeechRecognition-3.14.3\n"
          ]
        }
      ]
    },
    {
      "cell_type": "code",
      "source": [
        "!pip install pydub ffmpeg-python"
      ],
      "metadata": {
        "colab": {
          "base_uri": "https://localhost:8080/"
        },
        "id": "V7jWBDiAsnIA",
        "outputId": "cf458927-e3aa-4dc6-c555-75c3c0768230"
      },
      "id": "V7jWBDiAsnIA",
      "execution_count": 6,
      "outputs": [
        {
          "output_type": "stream",
          "name": "stdout",
          "text": [
            "Requirement already satisfied: pydub in /usr/local/lib/python3.11/dist-packages (0.25.1)\n",
            "Collecting ffmpeg-python\n",
            "  Downloading ffmpeg_python-0.2.0-py3-none-any.whl.metadata (1.7 kB)\n",
            "Requirement already satisfied: future in /usr/local/lib/python3.11/dist-packages (from ffmpeg-python) (1.0.0)\n",
            "Downloading ffmpeg_python-0.2.0-py3-none-any.whl (25 kB)\n",
            "Installing collected packages: ffmpeg-python\n",
            "Successfully installed ffmpeg-python-0.2.0\n"
          ]
        }
      ]
    },
    {
      "cell_type": "code",
      "source": [
        "global tokenizer, pipeline_model"
      ],
      "metadata": {
        "id": "bsIs2O9JY1xX"
      },
      "id": "bsIs2O9JY1xX",
      "execution_count": 7,
      "outputs": []
    },
    {
      "cell_type": "code",
      "source": [
        "import gradio as gr\n",
        "import os\n",
        "import tempfile\n",
        "from transformers import AutoTokenizer, pipeline\n",
        "import torch\n",
        "import transformers\n",
        "from gtts import gTTS\n",
        "import speech_recognition as sr\n",
        "from pydub import AudioSegment"
      ],
      "metadata": {
        "id": "oom4mFqcZe1x"
      },
      "id": "oom4mFqcZe1x",
      "execution_count": 8,
      "outputs": []
    },
    {
      "cell_type": "code",
      "source": [
        "# Configuration for Colab\n",
        "AUTO_PLAY_AUDIO = True  # Set to False if audio autoplay causes issues"
      ],
      "metadata": {
        "id": "QPC4CmaSZnfW"
      },
      "id": "QPC4CmaSZnfW",
      "execution_count": 9,
      "outputs": []
    },
    {
      "cell_type": "code",
      "source": [
        "global tokenizer, pipeline\n",
        "\n",
        "model = \"llama-2-7b-custom100-FineTuned\"\n",
        "tokenizer = AutoTokenizer.from_pretrained(model)\n",
        "pipeline = transformers.pipeline(\n",
        "    \"text-generation\",\n",
        "    model=model,\n",
        "    torch_dtype=torch.float16,\n",
        "    device_map=\"auto\",\n",
        ")"
      ],
      "metadata": {
        "colab": {
          "base_uri": "https://localhost:8080/",
          "height": 67,
          "referenced_widgets": [
            "53ab7a066bd74ccd8a60e6ac83214200",
            "cecb7a5c0a8640c797672e6848598664",
            "faca9d01a4a74ba0915e7fd94d4aebaa",
            "19e7a10d80f3412b8a6da094413d0a0c",
            "2bb222958bf64b269458180638f13cac",
            "397fe20bbd564ebcb72bea1e2bc6b332",
            "91b603695b844d8cb18666e2792f3a0d",
            "9bc6783c79d44b3691a1f9c175b53978",
            "68abbda193ae49129d7168da4865d109",
            "d0bc578cd405439c8c8d93dfb1c6cf6a",
            "6a09addf2104499293050afb5f6cbda4"
          ]
        },
        "id": "PColEYZFva_I",
        "outputId": "d9f68f65-3508-4ef9-8e04-e2e6eb7dfdcb"
      },
      "id": "PColEYZFva_I",
      "execution_count": 10,
      "outputs": [
        {
          "output_type": "display_data",
          "data": {
            "text/plain": [
              "Loading checkpoint shards:   0%|          | 0/2 [00:00<?, ?it/s]"
            ],
            "application/vnd.jupyter.widget-view+json": {
              "version_major": 2,
              "version_minor": 0,
              "model_id": "53ab7a066bd74ccd8a60e6ac83214200"
            }
          },
          "metadata": {}
        },
        {
          "output_type": "stream",
          "name": "stderr",
          "text": [
            "Device set to use cuda:0\n"
          ]
        }
      ]
    },
    {
      "cell_type": "code",
      "source": [
        "# Welcome message\n",
        "WELCOME_MESSAGE = \"\"\"🩺 Hello! I'm your virtual medical assistant.\n",
        "\n",
        "I can help you with:\n",
        "• 💊 Medication information\n",
        "• 🔍 Symptom analysis\n",
        "• 📋 General health advice\n",
        "• 🚨 Emergency guidance\n",
        "\n",
        "How can I assist you today?\"\"\""
      ],
      "metadata": {
        "id": "IiPtyz0amrKa"
      },
      "id": "IiPtyz0amrKa",
      "execution_count": 11,
      "outputs": []
    },
    {
      "cell_type": "code",
      "source": [
        "def chat_response(message):\n",
        "    \"\"\"Generate appropriate medical response\"\"\"\n",
        "    system_message = \"\"\"You are a professional and compassionate medical assistant.\n",
        "    Provide clear, helpful responses while advising to consult a doctor when necessary.\n",
        "    Be empathetic and precise in your medical responses.\"\"\"\n",
        "\n",
        "    prompt = f\"[INST] <<SYS>>\\n{system_message}\\n<<SYS>>\\n\\n{message}[/INST]\"\n",
        "\n",
        "    try:\n",
        "        sequences = pipeline(  # Changé de pipeline_model à pipeline\n",
        "            prompt,\n",
        "            do_sample=True,\n",
        "            top_k=10,\n",
        "            num_return_sequences=1,\n",
        "            eos_token_id=tokenizer.eos_token_id,\n",
        "            max_length=1000,\n",
        "            temperature=0.7,\n",
        "        )\n",
        "\n",
        "        for seq in sequences:\n",
        "            bot_message = seq['generated_text'].replace(prompt, '').split('[/INST]')[-1]\n",
        "\n",
        "        return bot_message.strip()\n",
        "    except Exception as e:\n",
        "        return f\"Sorry, an error occurred. Please try again. Error: {str(e)}\""
      ],
      "metadata": {
        "id": "fn0XSwYNy4ql"
      },
      "id": "fn0XSwYNy4ql",
      "execution_count": 12,
      "outputs": []
    },
    {
      "cell_type": "code",
      "source": [
        "def speech_to_text(audio_path):\n",
        "    \"\"\"Convert audio to text with improved error handling\"\"\"\n",
        "    if audio_path is None:\n",
        "        return \"No audio detected\"\n",
        "\n",
        "    r = sr.Recognizer()\n",
        "    r.energy_threshold = 300\n",
        "    r.pause_threshold = 0.8\n",
        "\n",
        "    try:\n",
        "        # Load and process audio\n",
        "        audio = AudioSegment.from_file(audio_path)\n",
        "\n",
        "        # Normalize audio for better recognition\n",
        "        audio = audio.normalize()\n",
        "\n",
        "        with tempfile.NamedTemporaryFile(suffix=\".wav\", delete=False) as tmp_file:\n",
        "            audio.export(tmp_file.name, format=\"wav\")\n",
        "\n",
        "            with sr.AudioFile(tmp_file.name) as source:\n",
        "                # Adjust for ambient noise\n",
        "                r.adjust_for_ambient_noise(source, duration=0.5)\n",
        "                audio_data = r.record(source)\n",
        "\n",
        "                try:\n",
        "                    # Try English first, then other languages\n",
        "                    try:\n",
        "                        text = r.recognize_google(audio_data, language=\"en-US\")\n",
        "                    except sr.UnknownValueError:\n",
        "                        text = r.recognize_google(audio_data, language=\"fr-FR\")\n",
        "\n",
        "                    os.unlink(tmp_file.name)\n",
        "                    return text\n",
        "\n",
        "                except sr.UnknownValueError:\n",
        "                    return \"I couldn't understand your audio. Please speak more clearly.\"\n",
        "                except sr.RequestError as e:\n",
        "                    return f\"Speech recognition service error: {str(e)}\"\n",
        "\n",
        "    except Exception as e:\n",
        "        return f\"Audio processing error: {str(e)}\"\n",
        "    finally:\n",
        "        # Clean up temporary files\n",
        "        if 'tmp_file' in locals() and os.path.exists(tmp_file.name):\n",
        "            try:\n",
        "                os.unlink(tmp_file.name)\n",
        "            except:\n",
        "                pass"
      ],
      "metadata": {
        "id": "dry8UjN2w2UF"
      },
      "id": "dry8UjN2w2UF",
      "execution_count": 13,
      "outputs": []
    },
    {
      "cell_type": "code",
      "source": [
        "def text_to_speech(text, lang='en'):\n",
        "    \"\"\"Convert text to audio with multilingual support\"\"\"\n",
        "    try:\n",
        "        if not text or len(text.strip()) == 0:\n",
        "            return None\n",
        "\n",
        "        # Clean text for TTS\n",
        "        clean_text = text.replace('*', '').replace('#', '').strip()\n",
        "\n",
        "        if len(clean_text) > 500:\n",
        "            clean_text = clean_text[:500] + \"...\"\n",
        "\n",
        "        with tempfile.NamedTemporaryFile(suffix=\".mp3\", delete=False) as tmp_file:\n",
        "            tts = gTTS(text=clean_text, lang=lang, slow=False)\n",
        "            tts.save(tmp_file.name)\n",
        "            return tmp_file.name\n",
        "\n",
        "    except Exception as e:\n",
        "        print(f\"Text-to-speech error: {e}\")\n",
        "        return None"
      ],
      "metadata": {
        "id": "dIbnGHvEFNZf"
      },
      "id": "dIbnGHvEFNZf",
      "execution_count": 14,
      "outputs": []
    },
    {
      "cell_type": "code",
      "source": [
        "def respond_text(message, chat_history):\n",
        "    \"\"\"Process text messages\"\"\"\n",
        "    if not message or message.strip() == \"\":\n",
        "        return \"\", chat_history\n",
        "\n",
        "    bot_message = chat_response(message)\n",
        "    chat_history.append((message, bot_message))\n",
        "    return \"\", chat_history\n",
        "\n",
        "def respond_audio(audio, chat_history):\n",
        "    \"\"\"Process audio messages\"\"\"\n",
        "    if audio is None:\n",
        "        chat_history.append((None, \"⚠️ Please record your voice message first\"))\n",
        "        return \"\", chat_history, None\n",
        "\n",
        "    # Convert audio to text\n",
        "    text = speech_to_text(audio)\n",
        "\n",
        "    if any(error in text for error in [\"couldn't understand\", \"Error\", \"No audio\"]):\n",
        "        chat_history.append((None, f\"🔊 {text}\"))\n",
        "        return \"\", chat_history, None\n",
        "\n",
        "    # Generate response\n",
        "    bot_message = chat_response(text)\n",
        "    chat_history.append((f\"🎤 You said: {text}\", bot_message))\n",
        "\n",
        "    # Generate audio response\n",
        "    audio_response = text_to_speech(bot_message)\n",
        "\n",
        "    return \"\", chat_history, audio_response"
      ],
      "metadata": {
        "id": "I79yS9ldz4sx"
      },
      "id": "I79yS9ldz4sx",
      "execution_count": 15,
      "outputs": []
    },
    {
      "cell_type": "code",
      "source": [
        "def generate_voice_response(chat_history):\n",
        "    \"\"\"Generate voice response for the last message\"\"\"\n",
        "    if chat_history and len(chat_history) > 0:\n",
        "        last_message = chat_history[-1][1]\n",
        "        audio_file = text_to_speech(last_message)\n",
        "        return audio_file, gr.Audio(visible=True)\n",
        "    return None, gr.Audio(visible=False)"
      ],
      "metadata": {
        "id": "I5j7IihHaWNX"
      },
      "id": "I5j7IihHaWNX",
      "execution_count": 16,
      "outputs": []
    },
    {
      "cell_type": "code",
      "source": [
        "# Enhanced CSS for medical mobile interface\n",
        "medical_mobile_css = \"\"\"\n",
        "@import url('https://fonts.googleapis.com/css2?family=Inter:wght@300;400;500;600;700&display=swap');\n",
        "\n",
        ":root {\n",
        "    --medical-primary: #2563eb;\n",
        "    --medical-secondary: #1e40af;\n",
        "    --medical-accent: #3b82f6;\n",
        "    --medical-success: #059669;\n",
        "    --medical-warning: #d97706;\n",
        "    --medical-danger: #dc2626;\n",
        "    --medical-light: #f8fafc;\n",
        "    --medical-white: #ffffff;\n",
        "    --medical-gray-50: #f9fafb;\n",
        "    --medical-gray-100: #f3f4f6;\n",
        "    --medical-gray-200: #e5e7eb;\n",
        "    --medical-gray-400: #9ca3af;\n",
        "    --medical-gray-500: #6b7280;\n",
        "    --medical-gray-600: #4b5563;\n",
        "    --medical-gray-700: #374151;\n",
        "    --medical-gray-900: #111827;\n",
        "    --shadow-sm: 0 1px 2px 0 rgba(0, 0, 0, 0.05);\n",
        "    --shadow-md: 0 4px 6px -1px rgba(0, 0, 0, 0.1);\n",
        "    --shadow-lg: 0 10px 15px -3px rgba(0, 0, 0, 0.1);\n",
        "}\n",
        "\n",
        "* {\n",
        "    box-sizing: border-box;\n",
        "}\n",
        "\n",
        ".gradio-container {\n",
        "    font-family: 'Inter', -apple-system, BlinkMacSystemFont, sans-serif !important;\n",
        "    max-width: 100% !important;\n",
        "    padding: 0 !important;\n",
        "    background: var(--medical-light);\n",
        "    min-height: 100vh;\n",
        "}\n",
        "\n",
        "/* Modern medical header */\n",
        ".medical-header {\n",
        "    background: linear-gradient(135deg, var(--medical-primary) 0%, var(--medical-secondary) 100%);\n",
        "    color: white;\n",
        "    padding: 24px 20px;\n",
        "    text-align: center;\n",
        "    position: sticky;\n",
        "    top: 0;\n",
        "    z-index: 100;\n",
        "    box-shadow: var(--shadow-lg);\n",
        "}\n",
        "\n",
        ".medical-header h1 {\n",
        "    margin: 0;\n",
        "    font-size: 24px;\n",
        "    font-weight: 700;\n",
        "    letter-spacing: -0.025em;\n",
        "}\n",
        "\n",
        ".medical-header .subtitle {\n",
        "    margin: 8px 0 0;\n",
        "    font-size: 14px;\n",
        "    color: rgba(255,255,255,0.9);\n",
        "    font-weight: 400;\n",
        "}\n",
        "\n",
        ".medical-header .status-indicator {\n",
        "    display: inline-block;\n",
        "    width: 8px;\n",
        "    height: 8px;\n",
        "    background: var(--medical-success);\n",
        "    border-radius: 50%;\n",
        "    margin-right: 8px;\n",
        "    animation: pulse 2s infinite;\n",
        "}\n",
        "\n",
        "@keyframes pulse {\n",
        "    0%, 100% { opacity: 1; }\n",
        "    50% { opacity: 0.5; }\n",
        "}\n",
        "\n",
        "/* Enhanced chat area */\n",
        ".medical-chatbot {\n",
        "    min-height: 50vh !important;\n",
        "    max-height: 50vh !important;\n",
        "    overflow-y: auto !important;\n",
        "    background: var(--medical-white);\n",
        "    border: none !important;\n",
        "    border-radius: 16px;\n",
        "    margin: 16px;\n",
        "    box-shadow: var(--shadow-md);\n",
        "    padding: 20px !important;\n",
        "}\n",
        "\n",
        "/* Avatar styles */\n",
        ".avatar img {\n",
        "    width: 32px !important;\n",
        "    height: 32px !important;\n",
        "    border-radius: 50% !important;\n",
        "    object-fit: contain !important;\n",
        "    background: var(--medical-primary);\n",
        "    padding: 4px;\n",
        "}\n",
        "\n",
        ".user-avatar {\n",
        "    background: var(--medical-accent) !important;\n",
        "}\n",
        "\n",
        ".bot-avatar {\n",
        "    background: var(--medical-success) !important;\n",
        "}\n",
        "\n",
        "/* User and bot messages */\n",
        ".user-message {\n",
        "    background: linear-gradient(135deg, var(--medical-primary), var(--medical-accent)) !important;\n",
        "    color: white !important;\n",
        "    padding: 16px 20px !important;\n",
        "    border-radius: 20px 20px 8px 20px !important;\n",
        "    margin: 12px 0 !important;\n",
        "    max-width: 85% !important;\n",
        "    margin-left: auto !important;\n",
        "    box-shadow: var(--shadow-sm);\n",
        "    font-weight: 500;\n",
        "}\n",
        "\n",
        ".bot-message {\n",
        "    background: var(--medical-gray-50) !important;\n",
        "    color: var(--medical-gray-900) !important;\n",
        "    padding: 16px 20px !important;\n",
        "    border-radius: 20px 20px 20px 8px !important;\n",
        "    margin: 12px 0 !important;\n",
        "    max-width: 85% !important;\n",
        "    border-left: 4px solid var(--medical-accent);\n",
        "    box-shadow: var(--shadow-sm);\n",
        "    line-height: 1.6;\n",
        "}\n",
        "\n",
        "/* Emoji styling in messages */\n",
        ".bot-message emoji, .user-message emoji {\n",
        "    font-size: 1.2em !important;\n",
        "    vertical-align: middle !important;\n",
        "    margin: 0 2px !important;\n",
        "}\n",
        "\n",
        "/* Medical buttons */\n",
        ".medical-btn {\n",
        "    background: var(--medical-primary) !important;\n",
        "    color: white !important;\n",
        "    border: none !important;\n",
        "    padding: 14px 24px !important;\n",
        "    border-radius: 12px !important;\n",
        "    font-weight: 600 !important;\n",
        "    font-size: 14px !important;\n",
        "    transition: all 0.2s ease !important;\n",
        "    box-shadow: var(--shadow-sm);\n",
        "    width: 100%;\n",
        "    margin: 8px 0 !important;\n",
        "    display: flex !important;\n",
        "    align-items: center !important;\n",
        "    justify-content: center !important;\n",
        "    gap: 8px !important;\n",
        "}\n",
        "\n",
        ".medical-btn .icon {\n",
        "    font-size: 1.2em !important;\n",
        "}\n",
        "\n",
        ".medical-btn:hover {\n",
        "    background: var(--medical-secondary) !important;\n",
        "    transform: translateY(-1px);\n",
        "    box-shadow: var(--shadow-md);\n",
        "}\n",
        "\n",
        ".medical-btn:active {\n",
        "    transform: translateY(0);\n",
        "}\n",
        "\n",
        "/* Emergency button */\n",
        ".emergency-btn {\n",
        "    background: var(--medical-danger) !important;\n",
        "    animation: emergency-pulse 2s infinite;\n",
        "}\n",
        "\n",
        "@keyframes emergency-pulse {\n",
        "    0%, 100% { box-shadow: 0 0 0 0 rgba(220, 38, 38, 0.4); }\n",
        "    50% { box-shadow: 0 0 0 10px rgba(220, 38, 38, 0); }\n",
        "}\n",
        "\n",
        "/* Input area */\n",
        ".medical-input {\n",
        "    border: 2px solid var(--medical-gray-200) !important;\n",
        "    border-radius: 12px !important;\n",
        "    padding: 16px 20px !important;\n",
        "    font-size: 16px !important;\n",
        "    transition: all 0.2s ease !important;\n",
        "    background: var(--medical-white);\n",
        "    margin: 12px 16px !important;\n",
        "}\n",
        "\n",
        ".medical-input:focus {\n",
        "    border-color: var(--medical-primary) !important;\n",
        "    box-shadow: 0 0 0 3px rgba(37, 99, 235, 0.1) !important;\n",
        "    outline: none !important;\n",
        "}\n",
        "\n",
        "/* Tabs */\n",
        ".medical-tabs {\n",
        "    background: var(--medical-white);\n",
        "    border-radius: 12px;\n",
        "    margin: 16px;\n",
        "    box-shadow: var(--shadow-sm);\n",
        "    overflow: hidden;\n",
        "}\n",
        "\n",
        ".tab-nav {\n",
        "    display: flex !important;\n",
        "}\n",
        "\n",
        ".tab-nav button {\n",
        "    background: var(--medical-gray-50) !important;\n",
        "    color: var(--medical-gray-600) !important;\n",
        "    border: none !important;\n",
        "    padding: 16px 24px !important;\n",
        "    font-weight: 500 !important;\n",
        "    transition: all 0.2s ease !important;\n",
        "    flex: 1 !important;\n",
        "    display: flex !important;\n",
        "    align-items: center !important;\n",
        "    justify-content: center !important;\n",
        "    gap: 8px !important;\n",
        "}\n",
        "\n",
        ".tab-nav button .icon {\n",
        "    font-size: 1.2em !important;\n",
        "}\n",
        "\n",
        ".tab-nav button.selected {\n",
        "    background: var(--medical-primary) !important;\n",
        "    color: white !important;\n",
        "}\n",
        "\n",
        "/* Audio area */\n",
        ".audio-container {\n",
        "    background: var(--medical-gray-50);\n",
        "    border: 2px dashed var(--medical-gray-200);\n",
        "    border-radius: 12px;\n",
        "    padding: 24px;\n",
        "    text-align: center;\n",
        "    margin: 16px;\n",
        "    transition: all 0.2s ease;\n",
        "}\n",
        "\n",
        ".audio-container:hover {\n",
        "    border-color: var(--medical-primary);\n",
        "    background: rgba(37, 99, 235, 0.05);\n",
        "}\n",
        "\n",
        ".audio-record-btn {\n",
        "    background: var(--medical-success) !important;\n",
        "    width: 80px !important;\n",
        "    height: 80px !important;\n",
        "    border-radius: 50% !important;\n",
        "    display: flex !important;\n",
        "    align-items: center !important;\n",
        "    justify-content: center !important;\n",
        "    margin: 0 auto 16px !important;\n",
        "    font-size: 24px !important;\n",
        "}\n",
        "\n",
        "/* Status indicators */\n",
        ".status-card {\n",
        "    background: var(--medical-white);\n",
        "    border-radius: 12px;\n",
        "    padding: 16px;\n",
        "    margin: 16px;\n",
        "    box-shadow: var(--shadow-sm);\n",
        "    border-left: 4px solid var(--medical-success);\n",
        "}\n",
        "\n",
        ".status-online {\n",
        "    color: var(--medical-success);\n",
        "    font-weight: 600;\n",
        "    display: flex;\n",
        "    align-items: center;\n",
        "    gap: 8px;\n",
        "}\n",
        "\n",
        "/* Medical disclaimer */\n",
        ".medical-disclaimer {\n",
        "    background: var(--medical-warning);\n",
        "    color: white;\n",
        "    padding: 16px;\n",
        "    margin: 16px;\n",
        "    border-radius: 12px;\n",
        "    font-size: 12px;\n",
        "    text-align: center;\n",
        "    line-height: 1.5;\n",
        "}\n",
        "\n",
        "/* Responsive design */\n",
        "@media (max-width: 768px) {\n",
        "    .gradio-container {\n",
        "        padding: 0 !important;\n",
        "    }\n",
        "\n",
        "    .medical-chatbot {\n",
        "        margin: 8px;\n",
        "        min-height: 45vh !important;\n",
        "        max-height: 45vh !important;\n",
        "    }\n",
        "\n",
        "    .medical-header {\n",
        "        padding: 16px 12px;\n",
        "    }\n",
        "\n",
        "    .medical-header h1 {\n",
        "        font-size: 20px;\n",
        "    }\n",
        "\n",
        "    .medical-input {\n",
        "        margin: 8px !important;\n",
        "        font-size: 16px !important;\n",
        "    }\n",
        "\n",
        "    .tab-nav button {\n",
        "        padding: 12px 16px !important;\n",
        "        font-size: 14px !important;\n",
        "    }\n",
        "}\n",
        "\n",
        "/* Smooth animations */\n",
        ".fade-in {\n",
        "    animation: fadeIn 0.3s ease-in;\n",
        "}\n",
        "\n",
        "@keyframes fadeIn {\n",
        "    from { opacity: 0; transform: translateY(10px); }\n",
        "    to { opacity: 1; transform: translateY(0); }\n",
        "}\n",
        "\n",
        "/* Custom scrollbar */\n",
        ".medical-chatbot::-webkit-scrollbar {\n",
        "    width: 6px;\n",
        "}\n",
        "\n",
        ".medical-chatbot::-webkit-scrollbar-track {\n",
        "    background: var(--medical-gray-100);\n",
        "    border-radius: 3px;\n",
        "}\n",
        "\n",
        ".medical-chatbot::-webkit-scrollbar-thumb {\n",
        "    background: var(--medical-gray-400);\n",
        "    border-radius: 3px;\n",
        "}\n",
        "\n",
        ".medical-chatbot::-webkit-scrollbar-thumb:hover {\n",
        "    background: var(--medical-gray-500);\n",
        "}\n",
        "\"\"\""
      ],
      "metadata": {
        "id": "hYKLDvEVafHk"
      },
      "id": "hYKLDvEVafHk",
      "execution_count": 17,
      "outputs": []
    },
    {
      "cell_type": "code",
      "source": [
        "with gr.Blocks(css=medical_mobile_css) as demo:\n",
        "    gr.Markdown(\"<div class='medical-header'><h1>🩺 Virtual Medical Assistant</h1><p class='subtitle'><span class='status-indicator'></span>Online and ready to assist</p></div>\")\n",
        "\n",
        "    with gr.Tab(\"Text Chat\"):\n",
        "        chatbot = gr.Chatbot(label=\"Medical Chat\", elem_classes=\"medical-chatbot\")\n",
        "        msg = gr.Textbox(label=\"Type your message\", placeholder=\"Ask about symptoms, medications, etc...\", elem_classes=\"medical-input\")\n",
        "        submit_btn = gr.Button(\"Send\", elem_classes=\"medical-btn\")\n",
        "        submit_btn.click(respond_text, [msg, chatbot], [msg, chatbot])\n",
        "\n",
        "    with gr.Tab(\"Voice Chat\"):\n",
        "        audio_input = gr.Audio(sources=\"microphone\", type=\"filepath\", label=\"Record your voice message\")\n",
        "        audio_output = gr.Audio(visible=False, label=\"Assistant's response\")\n",
        "        voice_chatbot = gr.Chatbot(label=\"Voice Chat\", elem_classes=\"medical-chatbot\")\n",
        "        submit_audio_btn = gr.Button(\"Send Voice Message\", elem_classes=\"medical-btn\")\n",
        "        submit_audio_btn.click(respond_audio, [audio_input, voice_chatbot], [msg, voice_chatbot, audio_output])"
      ],
      "metadata": {
        "id": "omGRiqPAUW1p"
      },
      "id": "omGRiqPAUW1p",
      "execution_count": null,
      "outputs": []
    },
    {
      "cell_type": "code",
      "source": [
        "demo.launch()"
      ],
      "metadata": {
        "colab": {
          "base_uri": "https://localhost:8080/",
          "height": 687
        },
        "id": "IXepWZUYiUFP",
        "outputId": "b816d05b-bfcd-4c8f-f389-e008d383f487"
      },
      "id": "IXepWZUYiUFP",
      "execution_count": 20,
      "outputs": [
        {
          "output_type": "stream",
          "name": "stdout",
          "text": [
            "Rerunning server... use `close()` to stop if you need to change `launch()` parameters.\n",
            "----\n",
            "It looks like you are running Gradio on a hosted Jupyter notebook, which requires `share=True`. Automatically setting `share=True` (you can turn this off by setting `share=False` in `launch()` explicitly).\n",
            "\n",
            "Colab notebook detected. To show errors in colab notebook, set debug=True in launch()\n",
            "* Running on public URL: https://d5a89700c22b860b2f.gradio.live\n",
            "\n",
            "This share link expires in 1 week. For free permanent hosting and GPU upgrades, run `gradio deploy` from the terminal in the working directory to deploy to Hugging Face Spaces (https://huggingface.co/spaces)\n"
          ]
        },
        {
          "output_type": "display_data",
          "data": {
            "text/plain": [
              "<IPython.core.display.HTML object>"
            ],
            "text/html": [
              "<div><iframe src=\"https://d5a89700c22b860b2f.gradio.live\" width=\"100%\" height=\"500\" allow=\"autoplay; camera; microphone; clipboard-read; clipboard-write;\" frameborder=\"0\" allowfullscreen></iframe></div>"
            ]
          },
          "metadata": {}
        },
        {
          "output_type": "execute_result",
          "data": {
            "text/plain": []
          },
          "metadata": {},
          "execution_count": 20
        }
      ]
    }
  ],
  "metadata": {
    "colab": {
      "provenance": [],
      "gpuType": "T4",
      "include_colab_link": true
    },
    "language_info": {
      "name": "python"
    },
    "kernelspec": {
      "name": "python3",
      "display_name": "Python 3"
    },
    "accelerator": "GPU",
    "widgets": {
      "application/vnd.jupyter.widget-state+json": {
        "53ab7a066bd74ccd8a60e6ac83214200": {
          "model_module": "@jupyter-widgets/controls",
          "model_name": "HBoxModel",
          "model_module_version": "1.5.0",
          "state": {
            "_dom_classes": [],
            "_model_module": "@jupyter-widgets/controls",
            "_model_module_version": "1.5.0",
            "_model_name": "HBoxModel",
            "_view_count": null,
            "_view_module": "@jupyter-widgets/controls",
            "_view_module_version": "1.5.0",
            "_view_name": "HBoxView",
            "box_style": "",
            "children": [
              "IPY_MODEL_cecb7a5c0a8640c797672e6848598664",
              "IPY_MODEL_faca9d01a4a74ba0915e7fd94d4aebaa",
              "IPY_MODEL_19e7a10d80f3412b8a6da094413d0a0c"
            ],
            "layout": "IPY_MODEL_2bb222958bf64b269458180638f13cac"
          }
        },
        "cecb7a5c0a8640c797672e6848598664": {
          "model_module": "@jupyter-widgets/controls",
          "model_name": "HTMLModel",
          "model_module_version": "1.5.0",
          "state": {
            "_dom_classes": [],
            "_model_module": "@jupyter-widgets/controls",
            "_model_module_version": "1.5.0",
            "_model_name": "HTMLModel",
            "_view_count": null,
            "_view_module": "@jupyter-widgets/controls",
            "_view_module_version": "1.5.0",
            "_view_name": "HTMLView",
            "description": "",
            "description_tooltip": null,
            "layout": "IPY_MODEL_397fe20bbd564ebcb72bea1e2bc6b332",
            "placeholder": "​",
            "style": "IPY_MODEL_91b603695b844d8cb18666e2792f3a0d",
            "value": "Loading checkpoint shards: 100%"
          }
        },
        "faca9d01a4a74ba0915e7fd94d4aebaa": {
          "model_module": "@jupyter-widgets/controls",
          "model_name": "FloatProgressModel",
          "model_module_version": "1.5.0",
          "state": {
            "_dom_classes": [],
            "_model_module": "@jupyter-widgets/controls",
            "_model_module_version": "1.5.0",
            "_model_name": "FloatProgressModel",
            "_view_count": null,
            "_view_module": "@jupyter-widgets/controls",
            "_view_module_version": "1.5.0",
            "_view_name": "ProgressView",
            "bar_style": "success",
            "description": "",
            "description_tooltip": null,
            "layout": "IPY_MODEL_9bc6783c79d44b3691a1f9c175b53978",
            "max": 2,
            "min": 0,
            "orientation": "horizontal",
            "style": "IPY_MODEL_68abbda193ae49129d7168da4865d109",
            "value": 2
          }
        },
        "19e7a10d80f3412b8a6da094413d0a0c": {
          "model_module": "@jupyter-widgets/controls",
          "model_name": "HTMLModel",
          "model_module_version": "1.5.0",
          "state": {
            "_dom_classes": [],
            "_model_module": "@jupyter-widgets/controls",
            "_model_module_version": "1.5.0",
            "_model_name": "HTMLModel",
            "_view_count": null,
            "_view_module": "@jupyter-widgets/controls",
            "_view_module_version": "1.5.0",
            "_view_name": "HTMLView",
            "description": "",
            "description_tooltip": null,
            "layout": "IPY_MODEL_d0bc578cd405439c8c8d93dfb1c6cf6a",
            "placeholder": "​",
            "style": "IPY_MODEL_6a09addf2104499293050afb5f6cbda4",
            "value": " 2/2 [04:17&lt;00:00, 116.20s/it]"
          }
        },
        "2bb222958bf64b269458180638f13cac": {
          "model_module": "@jupyter-widgets/base",
          "model_name": "LayoutModel",
          "model_module_version": "1.2.0",
          "state": {
            "_model_module": "@jupyter-widgets/base",
            "_model_module_version": "1.2.0",
            "_model_name": "LayoutModel",
            "_view_count": null,
            "_view_module": "@jupyter-widgets/base",
            "_view_module_version": "1.2.0",
            "_view_name": "LayoutView",
            "align_content": null,
            "align_items": null,
            "align_self": null,
            "border": null,
            "bottom": null,
            "display": null,
            "flex": null,
            "flex_flow": null,
            "grid_area": null,
            "grid_auto_columns": null,
            "grid_auto_flow": null,
            "grid_auto_rows": null,
            "grid_column": null,
            "grid_gap": null,
            "grid_row": null,
            "grid_template_areas": null,
            "grid_template_columns": null,
            "grid_template_rows": null,
            "height": null,
            "justify_content": null,
            "justify_items": null,
            "left": null,
            "margin": null,
            "max_height": null,
            "max_width": null,
            "min_height": null,
            "min_width": null,
            "object_fit": null,
            "object_position": null,
            "order": null,
            "overflow": null,
            "overflow_x": null,
            "overflow_y": null,
            "padding": null,
            "right": null,
            "top": null,
            "visibility": null,
            "width": null
          }
        },
        "397fe20bbd564ebcb72bea1e2bc6b332": {
          "model_module": "@jupyter-widgets/base",
          "model_name": "LayoutModel",
          "model_module_version": "1.2.0",
          "state": {
            "_model_module": "@jupyter-widgets/base",
            "_model_module_version": "1.2.0",
            "_model_name": "LayoutModel",
            "_view_count": null,
            "_view_module": "@jupyter-widgets/base",
            "_view_module_version": "1.2.0",
            "_view_name": "LayoutView",
            "align_content": null,
            "align_items": null,
            "align_self": null,
            "border": null,
            "bottom": null,
            "display": null,
            "flex": null,
            "flex_flow": null,
            "grid_area": null,
            "grid_auto_columns": null,
            "grid_auto_flow": null,
            "grid_auto_rows": null,
            "grid_column": null,
            "grid_gap": null,
            "grid_row": null,
            "grid_template_areas": null,
            "grid_template_columns": null,
            "grid_template_rows": null,
            "height": null,
            "justify_content": null,
            "justify_items": null,
            "left": null,
            "margin": null,
            "max_height": null,
            "max_width": null,
            "min_height": null,
            "min_width": null,
            "object_fit": null,
            "object_position": null,
            "order": null,
            "overflow": null,
            "overflow_x": null,
            "overflow_y": null,
            "padding": null,
            "right": null,
            "top": null,
            "visibility": null,
            "width": null
          }
        },
        "91b603695b844d8cb18666e2792f3a0d": {
          "model_module": "@jupyter-widgets/controls",
          "model_name": "DescriptionStyleModel",
          "model_module_version": "1.5.0",
          "state": {
            "_model_module": "@jupyter-widgets/controls",
            "_model_module_version": "1.5.0",
            "_model_name": "DescriptionStyleModel",
            "_view_count": null,
            "_view_module": "@jupyter-widgets/base",
            "_view_module_version": "1.2.0",
            "_view_name": "StyleView",
            "description_width": ""
          }
        },
        "9bc6783c79d44b3691a1f9c175b53978": {
          "model_module": "@jupyter-widgets/base",
          "model_name": "LayoutModel",
          "model_module_version": "1.2.0",
          "state": {
            "_model_module": "@jupyter-widgets/base",
            "_model_module_version": "1.2.0",
            "_model_name": "LayoutModel",
            "_view_count": null,
            "_view_module": "@jupyter-widgets/base",
            "_view_module_version": "1.2.0",
            "_view_name": "LayoutView",
            "align_content": null,
            "align_items": null,
            "align_self": null,
            "border": null,
            "bottom": null,
            "display": null,
            "flex": null,
            "flex_flow": null,
            "grid_area": null,
            "grid_auto_columns": null,
            "grid_auto_flow": null,
            "grid_auto_rows": null,
            "grid_column": null,
            "grid_gap": null,
            "grid_row": null,
            "grid_template_areas": null,
            "grid_template_columns": null,
            "grid_template_rows": null,
            "height": null,
            "justify_content": null,
            "justify_items": null,
            "left": null,
            "margin": null,
            "max_height": null,
            "max_width": null,
            "min_height": null,
            "min_width": null,
            "object_fit": null,
            "object_position": null,
            "order": null,
            "overflow": null,
            "overflow_x": null,
            "overflow_y": null,
            "padding": null,
            "right": null,
            "top": null,
            "visibility": null,
            "width": null
          }
        },
        "68abbda193ae49129d7168da4865d109": {
          "model_module": "@jupyter-widgets/controls",
          "model_name": "ProgressStyleModel",
          "model_module_version": "1.5.0",
          "state": {
            "_model_module": "@jupyter-widgets/controls",
            "_model_module_version": "1.5.0",
            "_model_name": "ProgressStyleModel",
            "_view_count": null,
            "_view_module": "@jupyter-widgets/base",
            "_view_module_version": "1.2.0",
            "_view_name": "StyleView",
            "bar_color": null,
            "description_width": ""
          }
        },
        "d0bc578cd405439c8c8d93dfb1c6cf6a": {
          "model_module": "@jupyter-widgets/base",
          "model_name": "LayoutModel",
          "model_module_version": "1.2.0",
          "state": {
            "_model_module": "@jupyter-widgets/base",
            "_model_module_version": "1.2.0",
            "_model_name": "LayoutModel",
            "_view_count": null,
            "_view_module": "@jupyter-widgets/base",
            "_view_module_version": "1.2.0",
            "_view_name": "LayoutView",
            "align_content": null,
            "align_items": null,
            "align_self": null,
            "border": null,
            "bottom": null,
            "display": null,
            "flex": null,
            "flex_flow": null,
            "grid_area": null,
            "grid_auto_columns": null,
            "grid_auto_flow": null,
            "grid_auto_rows": null,
            "grid_column": null,
            "grid_gap": null,
            "grid_row": null,
            "grid_template_areas": null,
            "grid_template_columns": null,
            "grid_template_rows": null,
            "height": null,
            "justify_content": null,
            "justify_items": null,
            "left": null,
            "margin": null,
            "max_height": null,
            "max_width": null,
            "min_height": null,
            "min_width": null,
            "object_fit": null,
            "object_position": null,
            "order": null,
            "overflow": null,
            "overflow_x": null,
            "overflow_y": null,
            "padding": null,
            "right": null,
            "top": null,
            "visibility": null,
            "width": null
          }
        },
        "6a09addf2104499293050afb5f6cbda4": {
          "model_module": "@jupyter-widgets/controls",
          "model_name": "DescriptionStyleModel",
          "model_module_version": "1.5.0",
          "state": {
            "_model_module": "@jupyter-widgets/controls",
            "_model_module_version": "1.5.0",
            "_model_name": "DescriptionStyleModel",
            "_view_count": null,
            "_view_module": "@jupyter-widgets/base",
            "_view_module_version": "1.2.0",
            "_view_name": "StyleView",
            "description_width": ""
          }
        }
      }
    }
  },
  "nbformat": 4,
  "nbformat_minor": 5
}